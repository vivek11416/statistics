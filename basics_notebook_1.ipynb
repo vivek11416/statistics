{
 "cells": [
  {
   "cell_type": "code",
   "outputs": [],
   "source": [
    "#Variance and Standard Deviation\n",
    "import pandas as pd\n",
    "import statsmodels.api as sm\n",
    "dataset = pd.read_csv('data/state.csv')"
   ],
   "metadata": {
    "collapsed": false,
    "ExecuteTime": {
     "end_time": "2024-04-18T04:52:34.121834Z",
     "start_time": "2024-04-18T04:52:32.746527Z"
    }
   },
   "id": "b41bdbad12106b7b",
   "execution_count": 6
  },
  {
   "cell_type": "code",
   "outputs": [
    {
     "data": {
      "text/plain": "6848235.347401142"
     },
     "execution_count": 7,
     "metadata": {},
     "output_type": "execute_result"
    }
   ],
   "source": [
    "dataset['Population'].std()"
   ],
   "metadata": {
    "collapsed": false,
    "ExecuteTime": {
     "end_time": "2024-04-18T04:52:35.209701Z",
     "start_time": "2024-04-18T04:52:35.198208Z"
    }
   },
   "id": "530c174ae0d546ea",
   "execution_count": 7
  },
  {
   "cell_type": "code",
   "outputs": [
    {
     "data": {
      "text/plain": "3849876.1459979336"
     },
     "execution_count": 8,
     "metadata": {},
     "output_type": "execute_result"
    }
   ],
   "source": [
    "dataset['Population'].quantile(0.75) - dataset['Population'].quantile(0.25)\n",
    "sm.robust.scale.mad(dataset['Population'])"
   ],
   "metadata": {
    "collapsed": false,
    "ExecuteTime": {
     "end_time": "2024-04-18T04:52:36.205853Z",
     "start_time": "2024-04-18T04:52:36.195182Z"
    }
   },
   "id": "8823d91d876edaac",
   "execution_count": 8
  },
  {
   "cell_type": "code",
   "outputs": [
    {
     "data": {
      "text/plain": "0.05    1.600\n0.25    2.425\n0.50    4.000\n0.75    5.550\n0.95    6.510\nName: Murder.Rate, dtype: float64"
     },
     "execution_count": 10,
     "metadata": {},
     "output_type": "execute_result"
    }
   ],
   "source": [
    "dataset['Murder.Rate'].quantile([0.05,0.25,0.5,0.75,0.95])"
   ],
   "metadata": {
    "collapsed": false,
    "ExecuteTime": {
     "end_time": "2024-04-18T04:58:00.703218Z",
     "start_time": "2024-04-18T04:58:00.684873Z"
    }
   },
   "id": "242b138802b8767",
   "execution_count": 10
  },
  {
   "cell_type": "code",
   "outputs": [
    {
     "data": {
      "text/plain": "Text(0.5, 0, 'Population (millions)')"
     },
     "execution_count": 14,
     "metadata": {},
     "output_type": "execute_result"
    },
    {
     "data": {
      "text/plain": "<Figure size 432x288 with 1 Axes>",
      "image/png": "[encoded data removed]"
     },
     "metadata": {
      "needs_background": "light"
     },
     "output_type": "display_data"
    }
   ],
   "source": [
    "ax = (dataset['Population']/100000).plot.hist(density = True,xlim =[0,12],bins=range(1,12))\n",
    "dataset['Murder.Rate'].plot.density(ax=ax)\n",
    "ax.set_xlabel('Population (millions)')"
   ],
   "metadata": {
    "collapsed": false,
    "ExecuteTime": {
     "end_time": "2024-04-18T06:13:04.323961Z",
     "start_time": "2024-04-18T06:13:04.127935Z"
    }
   },
   "id": "c314b0b014f47d9a",
   "execution_count": 14
  },
  {
   "cell_type": "code",
   "outputs": [],
   "source": [],
   "metadata": {
    "collapsed": false
   },
   "id": "3e1a11c4c3808dc0"
  }
 ],
 "metadata": {
  "kernelspec": {
   "display_name": "Python 3",
   "language": "python",
   "name": "python3"
  },
  "language_info": {
   "codemirror_mode": {
    "name": "ipython",
    "version": 2
   },
   "file_extension": ".py",
   "mimetype": "text/x-python",
   "name": "python",
   "nbconvert_exporter": "python",
   "pygments_lexer": "ipython2",
   "version": "2.7.6"
  }
 },
 "nbformat": 4,
 "nbformat_minor": 5
}
