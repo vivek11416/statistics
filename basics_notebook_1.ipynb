{
 "cells": [
  {
   "cell_type": "code",
   "outputs": [],
   "source": [
    "#Variance and Standard Deviation\n",
    "import pandas as pd\n",
    "import statsmodels.api as sm\n",
    "dataset = pd.read_csv('data/state.csv')"
   ],
   "metadata": {
    "collapsed": false,
    "ExecuteTime": {
     "end_time": "2024-04-18T04:52:34.121834Z",
     "start_time": "2024-04-18T04:52:32.746527Z"
    }
   },
   "id": "b41bdbad12106b7b",
   "execution_count": 6
  },
  {
   "cell_type": "code",
   "outputs": [
    {
     "data": {
      "text/plain": "6848235.347401142"
     },
     "execution_count": 7,
     "metadata": {},
     "output_type": "execute_result"
    }
   ],
   "source": [
    "dataset['Population'].std()"
   ],
   "metadata": {
    "collapsed": false,
    "ExecuteTime": {
     "end_time": "2024-04-18T04:52:35.209701Z",
     "start_time": "2024-04-18T04:52:35.198208Z"
    }
   },
   "id": "530c174ae0d546ea",
   "execution_count": 7
  },
  {
   "cell_type": "code",
   "outputs": [
    {
     "data": {
      "text/plain": "3849876.1459979336"
     },
     "execution_count": 8,
     "metadata": {},
     "output_type": "execute_result"
    }
   ],
   "source": [
    "dataset['Population'].quantile(0.75) - dataset['Population'].quantile(0.25)\n",
    "sm.robust.scale.mad(dataset['Population'])"
   ],
   "metadata": {
    "collapsed": false,
    "ExecuteTime": {
     "end_time": "2024-04-18T04:52:36.205853Z",
     "start_time": "2024-04-18T04:52:36.195182Z"
    }
   },
   "id": "8823d91d876edaac",
   "execution_count": 8
  },
  {
   "cell_type": "code",
   "outputs": [],
   "source": [],
   "metadata": {
    "collapsed": false
   },
   "id": "242b138802b8767"
  }
 ],
 "metadata": {
  "kernelspec": {
   "display_name": "Python 3",
   "language": "python",
   "name": "python3"
  },
  "language_info": {
   "codemirror_mode": {
    "name": "ipython",
    "version": 2
   },
   "file_extension": ".py",
   "mimetype": "text/x-python",
   "name": "python",
   "nbconvert_exporter": "python",
   "pygments_lexer": "ipython2",
   "version": "2.7.6"
  }
 },
 "nbformat": 4,
 "nbformat_minor": 5
}
